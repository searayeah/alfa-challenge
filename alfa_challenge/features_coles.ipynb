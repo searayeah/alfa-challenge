{
  "nbformat": 4,
  "nbformat_minor": 2,
  "metadata": {},
  "cells": [
    {
      "metadata": {},
      "source": [
        "from functools import partial\n",
        "\n",
        "import pandas as pd\n",
        "import pytorch_lightning as pl\n",
        "import torch\n",
        "from ptls.data_load.datasets import MemoryMapDataset, inference_data_loader\n",
        "from ptls.data_load.iterable_processing import SeqLenFilter\n",
        "from ptls.frames import PtlsDataModule\n",
        "from ptls.frames.coles import ColesDataset, CoLESModule\n",
        "from ptls.frames.coles.split_strategy import SampleSlices\n",
        "from ptls.nn import RnnSeqEncoder, TrxEncoder\n",
        "from ptls.preprocessing import PandasDataPreprocessor\n",
        "\n",
        "df_transactions = pd.read_parquet(\"data/df_transaction.pa\")\n",
        "df_train = pd.read_parquet(\"data/train.pa\")"
      ],
      "cell_type": "code",
      "outputs": [],
      "execution_count": null
    },
    {
      "metadata": {},
      "source": [
        "df_transactions = df_transactions.drop(\"merchant_name\", axis=1)"
      ],
      "cell_type": "code",
      "outputs": [],
      "execution_count": null
    },
    {
      "metadata": {},
      "source": [
        "df_transactions"
      ],
      "cell_type": "code",
      "outputs": [
        {
          "output_type": "execute_result",
          "data": {
            "text/html": [
              "<div>\n",
              "<style scoped>\n",
              "    .dataframe tbody tr th:only-of-type {\n",
              "        vertical-align: middle;\n",
              "    }\n",
              "\n",
              "    .dataframe tbody tr th {\n",
              "        vertical-align: top;\n",
              "    }\n",
              "\n",
              "    .dataframe thead th {\n",
              "        text-align: right;\n",
              "    }\n",
              "</style>\n",
              "<table border=\"1\" class=\"dataframe\">\n",
              "  <thead>\n",
              "    <tr style=\"text-align: right;\">\n",
              "      <th></th>\n",
              "      <th>client_num</th>\n",
              "      <th>date_time</th>\n",
              "      <th>mcc_code</th>\n",
              "      <th>amount</th>\n",
              "    </tr>\n",
              "  </thead>\n",
              "  <tbody>\n",
              "    <tr>\n",
              "      <th>0</th>\n",
              "      <td>0</td>\n",
              "      <td>2024-07-18 16:04:00</td>\n",
              "      <td>8099</td>\n",
              "      <td>2900</td>\n",
              "    </tr>\n",
              "    <tr>\n",
              "      <th>1</th>\n",
              "      <td>0</td>\n",
              "      <td>2024-07-22 16:31:00</td>\n",
              "      <td>5411</td>\n",
              "      <td>455</td>\n",
              "    </tr>\n",
              "    <tr>\n",
              "      <th>2</th>\n",
              "      <td>0</td>\n",
              "      <td>2024-07-24 16:23:00</td>\n",
              "      <td>5541</td>\n",
              "      <td>1003</td>\n",
              "    </tr>\n",
              "    <tr>\n",
              "      <th>3</th>\n",
              "      <td>0</td>\n",
              "      <td>2024-07-28 15:51:00</td>\n",
              "      <td>5691</td>\n",
              "      <td>1480</td>\n",
              "    </tr>\n",
              "    <tr>\n",
              "      <th>4</th>\n",
              "      <td>0</td>\n",
              "      <td>2024-07-28 18:00:00</td>\n",
              "      <td>5331</td>\n",
              "      <td>88</td>\n",
              "    </tr>\n",
              "    <tr>\n",
              "      <th>...</th>\n",
              "      <td>...</td>\n",
              "      <td>...</td>\n",
              "      <td>...</td>\n",
              "      <td>...</td>\n",
              "    </tr>\n",
              "    <tr>\n",
              "      <th>13508150</th>\n",
              "      <td>109142</td>\n",
              "      <td>2024-08-19 21:32:00</td>\n",
              "      <td>6011</td>\n",
              "      <td>14000</td>\n",
              "    </tr>\n",
              "    <tr>\n",
              "      <th>13508151</th>\n",
              "      <td>109142</td>\n",
              "      <td>2024-08-19 21:40:00</td>\n",
              "      <td>6011</td>\n",
              "      <td>24000</td>\n",
              "    </tr>\n",
              "    <tr>\n",
              "      <th>13508152</th>\n",
              "      <td>109142</td>\n",
              "      <td>2024-08-19 21:46:00</td>\n",
              "      <td>6011</td>\n",
              "      <td>23000</td>\n",
              "    </tr>\n",
              "    <tr>\n",
              "      <th>13508153</th>\n",
              "      <td>109142</td>\n",
              "      <td>2024-08-19 22:04:00</td>\n",
              "      <td>6011</td>\n",
              "      <td>32000</td>\n",
              "    </tr>\n",
              "    <tr>\n",
              "      <th>13508154</th>\n",
              "      <td>109142</td>\n",
              "      <td>2024-08-19 22:12:00</td>\n",
              "      <td>6011</td>\n",
              "      <td>34000</td>\n",
              "    </tr>\n",
              "  </tbody>\n",
              "</table>\n",
              "<p>13508155 rows \u00d7 4 columns</p>\n",
              "</div>"
            ],
            "text/plain": [
              "          client_num           date_time mcc_code  amount\n",
              "0                  0 2024-07-18 16:04:00     8099    2900\n",
              "1                  0 2024-07-22 16:31:00     5411     455\n",
              "2                  0 2024-07-24 16:23:00     5541    1003\n",
              "3                  0 2024-07-28 15:51:00     5691    1480\n",
              "4                  0 2024-07-28 18:00:00     5331      88\n",
              "...              ...                 ...      ...     ...\n",
              "13508150      109142 2024-08-19 21:32:00     6011   14000\n",
              "13508151      109142 2024-08-19 21:40:00     6011   24000\n",
              "13508152      109142 2024-08-19 21:46:00     6011   23000\n",
              "13508153      109142 2024-08-19 22:04:00     6011   32000\n",
              "13508154      109142 2024-08-19 22:12:00     6011   34000\n",
              "\n",
              "[13508155 rows x 4 columns]"
            ]
          },
          "metadata": {},
          "execution_count": 3
        }
      ],
      "execution_count": null
    },
    {
      "metadata": {},
      "source": [
        "preprocessor = PandasDataPreprocessor(\n",
        "    col_id=\"client_num\",\n",
        "    col_event_time=\"date_time\",\n",
        "    event_time_transformation=\"dt_to_timestamp\",\n",
        "    cols_category=[\"mcc_code\"],\n",
        "    cols_numerical=[\"amount\"],\n",
        "    return_records=True,\n",
        ")"
      ],
      "cell_type": "code",
      "outputs": [],
      "execution_count": null
    },
    {
      "metadata": {},
      "source": [
        "dataset = preprocessor.fit_transform(df_transactions)"
      ],
      "cell_type": "code",
      "outputs": [],
      "execution_count": null
    },
    {
      "metadata": {},
      "source": [
        "dataset"
      ],
      "cell_type": "code",
      "outputs": [],
      "execution_count": null
    },
    {
      "metadata": {},
      "source": [
        "trx_encoder_params = {\n",
        "    \"embeddings_noise\": 0.003,\n",
        "    \"numeric_values\": {\"amount\": \"identity\"},\n",
        "    \"embeddings\": {\n",
        "        \"event_time\": {\"in\": 800, \"out\": 16},\n",
        "        \"mcc_code\": {\"in\": 250, \"out\": 16},\n",
        "    },\n",
        "}\n",
        "\n",
        "seq_encoder = RnnSeqEncoder(\n",
        "    trx_encoder=TrxEncoder(**trx_encoder_params),\n",
        "    hidden_size=256,\n",
        "    type=\"gru\",\n",
        ")\n",
        "\n",
        "model = CoLESModule(\n",
        "    seq_encoder=seq_encoder,\n",
        "    optimizer_partial=partial(torch.optim.Adam, lr=0.001),\n",
        "    lr_scheduler_partial=partial(\n",
        "        torch.optim.lr_scheduler.StepLR, step_size=30, gamma=0.9\n",
        "    ),\n",
        ")"
      ],
      "cell_type": "code",
      "outputs": [],
      "execution_count": null
    },
    {
      "metadata": {},
      "source": [
        "train_dl = PtlsDataModule(\n",
        "    train_data=ColesDataset(\n",
        "        MemoryMapDataset(\n",
        "            data=dataset,\n",
        "            i_filters=[SeqLenFilter(min_seq_len=25)],\n",
        "        ),\n",
        "        splitter=SampleSlices(\n",
        "            split_count=5,\n",
        "            cnt_min=25,\n",
        "            cnt_max=200,\n",
        "        ),\n",
        "    ),\n",
        "    train_num_workers=16,\n",
        "    train_batch_size=256,\n",
        ")"
      ],
      "cell_type": "code",
      "outputs": [],
      "execution_count": null
    },
    {
      "metadata": {},
      "source": [
        "trainer = pl.Trainer(\n",
        "    max_epochs=12,\n",
        "    accelerator=\"cuda\" if torch.cuda.is_available() else \"cpu\",\n",
        "    enable_progress_bar=True,\n",
        ")"
      ],
      "cell_type": "code",
      "outputs": [
        {
          "output_type": "stream",
          "name": "stderr",
          "text": [
            "GPU available: True (cuda), used: True\n",
            "TPU available: False, using: 0 TPU cores\n",
            "HPU available: False, using: 0 HPUs\n",
            "/home/seara/Desktop/Github/alfa-challenge/.venv/lib/python3.10/site-packages/pytorch_lightning/trainer/connectors/logger_connector/logger_connector.py:75: Starting from v1.9.0, `tensorboardX` has been removed as a dependency of the `pytorch_lightning` package, due to potential conflicts with other packages in the ML ecosystem. For this reason, `logger=True` will use `CSVLogger` as the default logger, unless the `tensorboard` or `tensorboardX` packages are found. Please `pip install lightning[extra]` or one of them to enable TensorBoard support by default\n"
          ]
        }
      ],
      "execution_count": null
    },
    {
      "metadata": {},
      "source": [
        "trainer.fit(model, train_dl)\n",
        "print(trainer.logged_metrics)"
      ],
      "cell_type": "code",
      "outputs": [
        {
          "output_type": "stream",
          "name": "stderr",
          "text": [
            "/home/seara/Desktop/Github/alfa-challenge/.venv/lib/python3.10/site-packages/pytorch_lightning/trainer/configuration_validator.py:70: You defined a `validation_step` but have no `val_dataloader`. Skipping val loop.\n",
            "LOCAL_RANK: 0 - CUDA_VISIBLE_DEVICES: [0]\n",
            "\n",
            "  | Name               | Type            | Params | Mode \n",
            "---------------------------------------------------------------\n",
            "0 | _loss              | ContrastiveLoss | 0      | train\n",
            "1 | _seq_encoder       | RnnSeqEncoder   | 240 K  | train\n",
            "2 | _validation_metric | BatchRecallTopK | 0      | train\n",
            "3 | _head              | Head            | 0      | train\n",
            "---------------------------------------------------------------\n",
            "240 K     Trainable params\n",
            "0         Non-trainable params\n",
            "240 K     Total params\n",
            "0.962     Total estimated model params size (MB)\n",
            "19        Modules in train mode\n",
            "0         Modules in eval mode\n"
          ]
        },
        {
          "output_type": "display_data",
          "data": {
            "application/vnd.jupyter.widget-view+json": {
              "model_id": "ea44a92ec7fe4e3eb1739e238683681d",
              "version_major": 2,
              "version_minor": 0
            },
            "text/plain": [
              "Training: |          | 0/? [00:00<?, ?it/s]"
            ]
          },
          "metadata": {}
        },
        {
          "output_type": "stream",
          "name": "stderr",
          "text": [
            "`Trainer.fit` stopped: `max_epochs=12` reached.\n"
          ]
        },
        {
          "output_type": "stream",
          "name": "stdout",
          "text": [
            "{'loss': tensor(124.2874), 'seq_len': tensor(73.9533)}\n"
          ]
        }
      ],
      "execution_count": null
    },
    {
      "metadata": {},
      "source": [
        "torch.save(seq_encoder.state_dict(), \"data/features/coles-emb.pt\")"
      ],
      "cell_type": "code",
      "outputs": [],
      "execution_count": null
    },
    {
      "metadata": {},
      "source": [
        "train_dl = inference_data_loader(dataset, num_workers=0, batch_size=256)\n",
        "train_embeds = torch.vstack(trainer.predict(model, train_dl))"
      ],
      "cell_type": "code",
      "outputs": [
        {
          "output_type": "stream",
          "name": "stderr",
          "text": [
            "LOCAL_RANK: 0 - CUDA_VISIBLE_DEVICES: [0]\n",
            "/home/seara/Desktop/Github/alfa-challenge/.venv/lib/python3.10/site-packages/pytorch_lightning/trainer/connectors/data_connector.py:424: The 'predict_dataloader' does not have many workers which may be a bottleneck. Consider increasing the value of the `num_workers` argument` to `num_workers=15` in the `DataLoader` to improve performance.\n"
          ]
        },
        {
          "output_type": "display_data",
          "data": {
            "application/vnd.jupyter.widget-view+json": {
              "model_id": "c39796ba1b27453f9426baa3c9b2c6b8",
              "version_major": 2,
              "version_minor": 0
            },
            "text/plain": [
              "Predicting: |          | 0/? [00:00<?, ?it/s]"
            ]
          },
          "metadata": {}
        }
      ],
      "execution_count": null
    },
    {
      "metadata": {},
      "source": [
        "embeds = pd.DataFrame(\n",
        "    data=train_embeds, columns=[f\"embed_{i}\" for i in range(train_embeds.shape[1])]\n",
        ")"
      ],
      "cell_type": "code",
      "outputs": [],
      "execution_count": null
    },
    {
      "metadata": {},
      "source": [
        "embeds.to_parquet(\"data/features/coles.pa\")"
      ],
      "cell_type": "code",
      "outputs": [],
      "execution_count": null
    }
  ]
}
