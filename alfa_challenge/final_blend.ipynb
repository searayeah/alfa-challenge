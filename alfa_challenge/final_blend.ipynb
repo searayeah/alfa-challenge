{
  "nbformat": 4,
  "nbformat_minor": 2,
  "metadata": {},
  "cells": [
    {
      "metadata": {},
      "source": [
        "import numpy as np\n",
        "import pandas as pd\n",
        "\n",
        "sub_1 = pd.read_csv(\"submissions/500_features_catboost_MAPE.csv\")\n",
        "sub_2 = pd.read_csv(\"submissions/full_features_catboost.csv\")"
      ],
      "cell_type": "code",
      "outputs": [],
      "execution_count": null
    },
    {
      "metadata": {},
      "source": [
        "# \u043c\u043e\u0436\u043d\u043e \u0431\u044b\u043b\u043e \u043f\u0440\u0438\u043c\u0435\u043d\u0438\u0442\u044c np.clip \u0438 \u043d\u0430 \u0444\u0438\u043d\u0430\u043b\u044c\u043d\u044b\u0439 \u0440\u0435\u0437\u0443\u043b\u044c\u0442\u0430\u0442,\n",
        "# \u0447\u0442\u043e\u0431\u044b \u0435\u0449\u0451 \u0441\u0438\u043b\u044c\u043d\u0435\u0435 \u0441\u043d\u0438\u0437\u0438\u0442\u044c \u043e\u0448\u0438\u0431\u043a\u0443\n",
        "sub_1[\"target\"] = 0.5 * sub_1[\"target\"] + 0.5 * np.clip((sub_2[\"target\"] - 0.5), 0, 7)"
      ],
      "cell_type": "code",
      "outputs": [],
      "execution_count": null
    },
    {
      "metadata": {},
      "source": [
        "sub_1.to_csv(\n",
        "    \"submissions/500_features_catboost_MAPE_BLEND_WITH_full_features_catboost-0.5.csv\",\n",
        "    index=False,\n",
        ")"
      ],
      "cell_type": "code",
      "outputs": [],
      "execution_count": null
    }
  ]
}
