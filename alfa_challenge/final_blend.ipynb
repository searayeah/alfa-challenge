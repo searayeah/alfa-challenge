{
  "nbformat": 4,
  "nbformat_minor": 2,
  "metadata": {},
  "cells": [
    {
      "metadata": {},
      "source": [
        "import pandas as pd\n",
        "\n",
        "sub_1 = pd.read_csv(\"submissions/500_features_catboost_MAPE.csv\")\n",
        "sub_2 = pd.read_csv(\"submissions/full_features_catboost.csv\")"
      ],
      "cell_type": "code",
      "outputs": [],
      "execution_count": null
    },
    {
      "metadata": {},
      "source": [
        "sub_1[\"target\"] = 0.5 * sub_1[\"target\"] + 0.5 * (sub_2[\"target\"] - 0.5)"
      ],
      "cell_type": "code",
      "outputs": [],
      "execution_count": null
    },
    {
      "metadata": {},
      "source": [
        "sub_1.to_csv(\n",
        "    \"submissions/500_features_catboost_MAPE_BLEND_WITH_full_features_catboost-0.5.csv\",\n",
        "    index=False,\n",
        ")"
      ],
      "cell_type": "code",
      "outputs": [],
      "execution_count": null
    }
  ]
}
