{
  "nbformat": 4,
  "nbformat_minor": 5,
  "metadata": {},
  "cells": [
    {
      "metadata": {},
      "source": [
        "![image.png](attachment:0eec74de-f543-4807-a8f0-15878dcda490.png)"
      ],
      "cell_type": "markdown"
    },
    {
      "metadata": {},
      "source": [
        "import json\n",
        "\n",
        "import numpy as np\n",
        "import pandas as pd\n",
        "from catboost import CatBoostRegressor\n",
        "from sklearn.metrics import mean_absolute_error\n",
        "from sklearn.model_selection import StratifiedKFold\n",
        "from tqdm.notebook import tqdm"
      ],
      "cell_type": "code",
      "outputs": [],
      "execution_count": null
    },
    {
      "metadata": {},
      "source": [
        "X_train_path = \"/kaggle/input/alfa-challenge-features/x_train.pa\"\n",
        "X_test_path = \"/kaggle/input/alfa-challenge-features/x_test.pa\"\n",
        "sub_path = \"/kaggle/working/\"\n",
        "features_select_path = \"/kaggle/input/alfa-challenge-features/selected_features_500.json\""
      ],
      "cell_type": "code",
      "outputs": [],
      "execution_count": null
    },
    {
      "metadata": {},
      "source": [
        "# Catboost MAE"
      ],
      "cell_type": "markdown"
    },
    {
      "metadata": {},
      "source": [
        "X_train = pd.read_parquet(X_train_path)\n",
        "X_test = pd.read_parquet(X_test_path)\n",
        "\n",
        "y_train = X_train[\"target\"]\n",
        "submission = X_test[[\"client_num\"]]\n",
        "\n",
        "X_train = X_train.drop([\"client_num\", \"target\"], axis=1)\n",
        "X_test = X_test.drop(\"client_num\", axis=1)"
      ],
      "cell_type": "code",
      "outputs": [],
      "execution_count": null
    },
    {
      "metadata": {},
      "source": [
        "CAT_FEATURES = X_train.select_dtypes(\"object\").columns.to_list()\n",
        "\n",
        "models_list = []\n",
        "scores_list = []\n",
        "\n",
        "splitter = StratifiedKFold(n_splits=5, shuffle=True, random_state=42)\n",
        "for i, (train_index, test_index) in tqdm(enumerate(splitter.split(X_train, y_train))):\n",
        "    X_fold_train, y_fold_train = X_train.iloc[train_index], y_train.iloc[train_index]\n",
        "    X_fold_test, y_fold_test = X_train.iloc[test_index], y_train.iloc[test_index]\n",
        "\n",
        "    model = CatBoostRegressor(\n",
        "        iterations=10000,\n",
        "        loss_function=\"MAE\",\n",
        "        cat_features=CAT_FEATURES,\n",
        "        learning_rate=0.03,\n",
        "        depth=4,\n",
        "        verbose=0,\n",
        "        eval_metric=\"MAE\",\n",
        "        early_stopping_rounds=400,\n",
        "        task_type=\"GPU\",\n",
        "    )\n",
        "\n",
        "    model.fit(X_fold_train, y_fold_train, eval_set=(X_fold_test, y_fold_test))\n",
        "    preds = model.predict(X_fold_test)\n",
        "\n",
        "    score = mean_absolute_error(y_fold_test, preds)\n",
        "\n",
        "    models_list.append(model)\n",
        "    scores_list.append(score)\n",
        "\n",
        "print(np.mean(scores_list), np.std(scores_list))"
      ],
      "cell_type": "code",
      "outputs": [
        {
          "output_type": "display_data",
          "data": {
            "application/vnd.jupyter.widget-view+json": {
              "model_id": "dfc742c2f6064964b3fa6f2099fca35d",
              "version_major": 2,
              "version_minor": 0
            },
            "text/plain": [
              "0it [00:00, ?it/s]"
            ]
          },
          "metadata": {}
        },
        {
          "output_type": "stream",
          "name": "stderr",
          "text": [
            "Default metric period is 5 because MAE is/are not implemented for GPU\n",
            "Default metric period is 5 because MAE is/are not implemented for GPU\n",
            "Default metric period is 5 because MAE is/are not implemented for GPU\n",
            "Default metric period is 5 because MAE is/are not implemented for GPU\n",
            "Default metric period is 5 because MAE is/are not implemented for GPU\n"
          ]
        },
        {
          "output_type": "stream",
          "name": "stdout",
          "text": [
            "1.2066019270017905 0.006473895923643304\n"
          ]
        }
      ],
      "execution_count": null
    },
    {
      "metadata": {},
      "source": [
        "pd.DataFrame(\n",
        "    zip(models_list[0].feature_importances_, X_train.columns, strict=False)\n",
        ").sort_values(by=0, ascending=False).head(10)"
      ],
      "cell_type": "code",
      "outputs": [
        {
          "output_type": "execute_result",
          "data": {
            "text/html": [
              "<div>\n",
              "<style scoped>\n",
              "    .dataframe tbody tr th:only-of-type {\n",
              "        vertical-align: middle;\n",
              "    }\n",
              "\n",
              "    .dataframe tbody tr th {\n",
              "        vertical-align: top;\n",
              "    }\n",
              "\n",
              "    .dataframe thead th {\n",
              "        text-align: right;\n",
              "    }\n",
              "</style>\n",
              "<table border=\"1\" class=\"dataframe\">\n",
              "  <thead>\n",
              "    <tr style=\"text-align: right;\">\n",
              "      <th></th>\n",
              "      <th>0</th>\n",
              "      <th>1</th>\n",
              "    </tr>\n",
              "  </thead>\n",
              "  <tbody>\n",
              "    <tr>\n",
              "      <th>4792</th>\n",
              "      <td>4.998593</td>\n",
              "      <td>time_between_last_and_end_hours</td>\n",
              "    </tr>\n",
              "    <tr>\n",
              "      <th>4791</th>\n",
              "      <td>3.914730</td>\n",
              "      <td>time_between_last_and_end_days</td>\n",
              "    </tr>\n",
              "    <tr>\n",
              "      <th>4652</th>\n",
              "      <td>3.614641</td>\n",
              "      <td>embed_147</td>\n",
              "    </tr>\n",
              "    <tr>\n",
              "      <th>3751</th>\n",
              "      <td>2.806967</td>\n",
              "      <td>ts_day_max_max__number_peaks__n_1</td>\n",
              "    </tr>\n",
              "    <tr>\n",
              "      <th>2070</th>\n",
              "      <td>2.468993</td>\n",
              "      <td>ts_day_sum_sum__number_peaks__n_1</td>\n",
              "    </tr>\n",
              "    <tr>\n",
              "      <th>580</th>\n",
              "      <td>1.699672</td>\n",
              "      <td>ts_week_sum_sum__agg_linear_trend__attr_\"inter...</td>\n",
              "    </tr>\n",
              "    <tr>\n",
              "      <th>4709</th>\n",
              "      <td>1.609810</td>\n",
              "      <td>embed_204</td>\n",
              "    </tr>\n",
              "    <tr>\n",
              "      <th>2871</th>\n",
              "      <td>1.427030</td>\n",
              "      <td>ts_day_mean_mean__number_peaks__n_1</td>\n",
              "    </tr>\n",
              "    <tr>\n",
              "      <th>4656</th>\n",
              "      <td>1.157532</td>\n",
              "      <td>embed_151</td>\n",
              "    </tr>\n",
              "    <tr>\n",
              "      <th>1765</th>\n",
              "      <td>1.015990</td>\n",
              "      <td>ts_week_max_max__agg_linear_trend__attr_\"inter...</td>\n",
              "    </tr>\n",
              "  </tbody>\n",
              "</table>\n",
              "</div>"
            ],
            "text/plain": [
              "             0                                                  1\n",
              "4792  4.998593                    time_between_last_and_end_hours\n",
              "4791  3.914730                     time_between_last_and_end_days\n",
              "4652  3.614641                                          embed_147\n",
              "3751  2.806967                  ts_day_max_max__number_peaks__n_1\n",
              "2070  2.468993                  ts_day_sum_sum__number_peaks__n_1\n",
              "580   1.699672  ts_week_sum_sum__agg_linear_trend__attr_\"inter...\n",
              "4709  1.609810                                          embed_204\n",
              "2871  1.427030                ts_day_mean_mean__number_peaks__n_1\n",
              "4656  1.157532                                          embed_151\n",
              "1765  1.015990  ts_week_max_max__agg_linear_trend__attr_\"inter..."
            ]
          },
          "metadata": {},
          "execution_count": 5
        }
      ],
      "execution_count": null
    },
    {
      "metadata": {},
      "source": [
        "y_pred = np.zeros(X_test.shape[0])\n",
        "\n",
        "for model in models_list:\n",
        "    y_pred += model.predict(X_test)\n",
        "\n",
        "y_pred /= len(models_list)\n",
        "\n",
        "y_pred = np.clip(y_pred, 0, 7)\n",
        "print(np.min(y_pred), np.max(y_pred))"
      ],
      "cell_type": "code",
      "outputs": [
        {
          "output_type": "stream",
          "name": "stdout",
          "text": [
            "0.0 6.78878977528799\n"
          ]
        }
      ],
      "execution_count": null
    },
    {
      "metadata": {},
      "source": [
        "submission[\"target\"] = y_pred\n",
        "\n",
        "submission.to_csv(f\"{sub_path}/full_features_catboost.csv\", index=False)"
      ],
      "cell_type": "code",
      "outputs": [],
      "execution_count": null
    },
    {
      "metadata": {},
      "source": [
        "# Catboost MAPE"
      ],
      "cell_type": "markdown"
    },
    {
      "metadata": {},
      "source": [
        "X_train = pd.read_parquet(X_train_path)\n",
        "X_test = pd.read_parquet(X_test_path)\n",
        "\n",
        "\n",
        "with open(features_select_path) as json_file:\n",
        "    loaded_dict = json.load(json_file)\n",
        "\n",
        "\n",
        "X_train = X_train[loaded_dict[\"selected_features_names\"] + [\"target\", \"client_num\"]]\n",
        "X_test = X_test[loaded_dict[\"selected_features_names\"] + [\"client_num\"]]\n",
        "\n",
        "y_train = X_train[\"target\"]\n",
        "submission = X_test[[\"client_num\"]]\n",
        "\n",
        "X_train = X_train.drop([\"client_num\", \"target\"], axis=1)\n",
        "X_test = X_test.drop(\"client_num\", axis=1)"
      ],
      "cell_type": "code",
      "outputs": [],
      "execution_count": null
    },
    {
      "metadata": {},
      "source": [
        "CAT_FEATURES = X_train.select_dtypes(\"object\").columns.to_list()\n",
        "\n",
        "models_list = []\n",
        "scores_list = []\n",
        "\n",
        "splitter = StratifiedKFold(n_splits=5, shuffle=True, random_state=42)\n",
        "for i, (train_index, test_index) in tqdm(enumerate(splitter.split(X_train, y_train))):\n",
        "    X_fold_train, y_fold_train = X_train.iloc[train_index], y_train.iloc[train_index]\n",
        "    X_fold_test, y_fold_test = X_train.iloc[test_index], y_train.iloc[test_index]\n",
        "\n",
        "    model = CatBoostRegressor(\n",
        "        iterations=10000,\n",
        "        loss_function=\"MAPE\",\n",
        "        cat_features=CAT_FEATURES,\n",
        "        learning_rate=0.03,\n",
        "        depth=4,\n",
        "        verbose=0,\n",
        "        eval_metric=\"MAPE\",\n",
        "        early_stopping_rounds=400,\n",
        "        task_type=\"GPU\",\n",
        "    )\n",
        "\n",
        "    model.fit(X_fold_train, y_fold_train, eval_set=(X_fold_test, y_fold_test))\n",
        "    preds = model.predict(X_fold_test)\n",
        "\n",
        "    score = mean_absolute_error(y_fold_test, preds)\n",
        "\n",
        "    models_list.append(model)\n",
        "    scores_list.append(score)\n",
        "\n",
        "print(np.mean(scores_list), np.std(scores_list))"
      ],
      "cell_type": "code",
      "outputs": [
        {
          "output_type": "display_data",
          "data": {
            "application/vnd.jupyter.widget-view+json": {
              "model_id": "fdcffb48cd114622b951e42363fe3cb0",
              "version_major": 2,
              "version_minor": 0
            },
            "text/plain": [
              "0it [00:00, ?it/s]"
            ]
          },
          "metadata": {}
        },
        {
          "output_type": "stream",
          "name": "stdout",
          "text": [
            "1.420796439595278 0.011441009531485608\n"
          ]
        }
      ],
      "execution_count": null
    },
    {
      "metadata": {},
      "source": [
        "pd.DataFrame(\n",
        "    zip(models_list[0].feature_importances_, X_train.columns, strict=False)\n",
        ").sort_values(by=0, ascending=False).head(10)"
      ],
      "cell_type": "code",
      "outputs": [
        {
          "output_type": "execute_result",
          "data": {
            "text/html": [
              "<div>\n",
              "<style scoped>\n",
              "    .dataframe tbody tr th:only-of-type {\n",
              "        vertical-align: middle;\n",
              "    }\n",
              "\n",
              "    .dataframe tbody tr th {\n",
              "        vertical-align: top;\n",
              "    }\n",
              "\n",
              "    .dataframe thead th {\n",
              "        text-align: right;\n",
              "    }\n",
              "</style>\n",
              "<table border=\"1\" class=\"dataframe\">\n",
              "  <thead>\n",
              "    <tr style=\"text-align: right;\">\n",
              "      <th></th>\n",
              "      <th>0</th>\n",
              "      <th>1</th>\n",
              "    </tr>\n",
              "  </thead>\n",
              "  <tbody>\n",
              "    <tr>\n",
              "      <th>420</th>\n",
              "      <td>3.814436</td>\n",
              "      <td>time_between_last_and_end_hours</td>\n",
              "    </tr>\n",
              "    <tr>\n",
              "      <th>419</th>\n",
              "      <td>2.972397</td>\n",
              "      <td>time_between_last_and_end_days</td>\n",
              "    </tr>\n",
              "    <tr>\n",
              "      <th>222</th>\n",
              "      <td>2.556143</td>\n",
              "      <td>ts_day_mean_mean__permutation_entropy__dimensi...</td>\n",
              "    </tr>\n",
              "    <tr>\n",
              "      <th>292</th>\n",
              "      <td>1.264362</td>\n",
              "      <td>ts_day_max_max__number_peaks__n_1</td>\n",
              "    </tr>\n",
              "    <tr>\n",
              "      <th>139</th>\n",
              "      <td>0.974242</td>\n",
              "      <td>ts_day_sum_sum__number_peaks__n_1</td>\n",
              "    </tr>\n",
              "    <tr>\n",
              "      <th>498</th>\n",
              "      <td>0.923698</td>\n",
              "      <td>max</td>\n",
              "    </tr>\n",
              "    <tr>\n",
              "      <th>495</th>\n",
              "      <td>0.769313</td>\n",
              "      <td>fraction_mcc_code_count_6538</td>\n",
              "    </tr>\n",
              "    <tr>\n",
              "      <th>147</th>\n",
              "      <td>0.722812</td>\n",
              "      <td>ts_day_sum_sum__quantile__q_0.9</td>\n",
              "    </tr>\n",
              "    <tr>\n",
              "      <th>448</th>\n",
              "      <td>0.714331</td>\n",
              "      <td>fraction_month_count_9</td>\n",
              "    </tr>\n",
              "    <tr>\n",
              "      <th>492</th>\n",
              "      <td>0.704222</td>\n",
              "      <td>fraction_mcc_code_count_6009</td>\n",
              "    </tr>\n",
              "  </tbody>\n",
              "</table>\n",
              "</div>"
            ],
            "text/plain": [
              "            0                                                  1\n",
              "420  3.814436                    time_between_last_and_end_hours\n",
              "419  2.972397                     time_between_last_and_end_days\n",
              "222  2.556143  ts_day_mean_mean__permutation_entropy__dimensi...\n",
              "292  1.264362                  ts_day_max_max__number_peaks__n_1\n",
              "139  0.974242                  ts_day_sum_sum__number_peaks__n_1\n",
              "498  0.923698                                                max\n",
              "495  0.769313                       fraction_mcc_code_count_6538\n",
              "147  0.722812                    ts_day_sum_sum__quantile__q_0.9\n",
              "448  0.714331                             fraction_month_count_9\n",
              "492  0.704222                       fraction_mcc_code_count_6009"
            ]
          },
          "metadata": {},
          "execution_count": 10
        }
      ],
      "execution_count": null
    },
    {
      "metadata": {},
      "source": [
        "y_pred = np.zeros(X_test.shape[0])\n",
        "\n",
        "for model in models_list:\n",
        "    y_pred += model.predict(X_test)\n",
        "\n",
        "y_pred /= len(models_list)"
      ],
      "cell_type": "code",
      "outputs": [],
      "execution_count": null
    },
    {
      "metadata": {},
      "source": [
        "y_pred = np.clip(y_pred, 0, 7)\n",
        "print(np.min(y_pred), np.max(y_pred))"
      ],
      "cell_type": "code",
      "outputs": [
        {
          "output_type": "stream",
          "name": "stdout",
          "text": [
            "0.0 4.434838538205958\n"
          ]
        }
      ],
      "execution_count": null
    },
    {
      "metadata": {},
      "source": [
        "submission[\"target\"] = y_pred\n",
        "\n",
        "submission.to_csv(f\"{sub_path}/500_features_catboost_MAPE.csv\", index=False)"
      ],
      "cell_type": "code",
      "outputs": [],
      "execution_count": null
    },
    {
      "metadata": {},
      "source": [
        "# Blend"
      ],
      "cell_type": "markdown"
    },
    {
      "metadata": {},
      "source": [
        "sub_1 = pd.read_csv(f\"{sub_path}/500_features_catboost_MAPE.csv\")\n",
        "sub_2 = pd.read_csv(f\"{sub_path}/full_features_catboost.csv\")"
      ],
      "cell_type": "code",
      "outputs": [],
      "execution_count": null
    },
    {
      "metadata": {},
      "source": [
        "# \u043c\u043e\u0436\u043d\u043e \u0431\u044b\u043b\u043e \u043f\u0440\u0438\u043c\u0435\u043d\u0438\u0442\u044c np.clip \u0438 \u043d\u0430 \u0444\u0438\u043d\u0430\u043b\u044c\u043d\u044b\u0439 \u0440\u0435\u0437\u0443\u043b\u044c\u0442\u0430\u0442,\n",
        "# \u0447\u0442\u043e\u0431\u044b \u0435\u0449\u0451 \u0441\u0438\u043b\u044c\u043d\u0435\u0435 \u0441\u043d\u0438\u0437\u0438\u0442\u044c \u043e\u0448\u0438\u0431\u043a\u0443\n",
        "sub_1[\"target\"] = 0.5 * sub_1[\"target\"] + 0.5 * (np.clip((sub_2[\"target\"] - 0.5), 0, 7))"
      ],
      "cell_type": "code",
      "outputs": [],
      "execution_count": null
    },
    {
      "metadata": {},
      "source": [
        "sub_1.to_csv(\n",
        "    f\"{sub_path}/submission.csv\",\n",
        "    index=False,\n",
        ")"
      ],
      "cell_type": "code",
      "outputs": [],
      "execution_count": null
    }
  ]
}
