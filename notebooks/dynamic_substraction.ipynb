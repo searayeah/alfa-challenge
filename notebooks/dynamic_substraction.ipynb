{
  "nbformat": 4,
  "nbformat_minor": 2,
  "metadata": {},
  "cells": [
    {
      "metadata": {},
      "source": [
        "import numpy as np\n",
        "import pandas as pd\n",
        "\n",
        "df_train = pd.read_parquet(\"data/train.pa\")"
      ],
      "cell_type": "code",
      "outputs": [],
      "execution_count": null
    },
    {
      "metadata": {},
      "source": [
        "df_train[\"target\"].value_counts()"
      ],
      "cell_type": "code",
      "outputs": [
        {
          "output_type": "execute_result",
          "data": {
            "text/plain": [
              "target\n",
              "1    18020\n",
              "0    15091\n",
              "2     9873\n",
              "4     8034\n",
              "3     7987\n",
              "5     5507\n",
              "6     5488\n",
              "Name: count, dtype: int64"
            ]
          },
          "metadata": {},
          "execution_count": 10
        }
      ],
      "execution_count": null
    },
    {
      "metadata": {},
      "source": [
        "sub = pd.read_csv(\"submissions/full_features_catboost.csv\")\n",
        "sub[\"target\"] = np.clip((sub[\"target\"] - 1).to_numpy(), 0, 7)\n",
        "sub.to_csv(\"submissions/full_features_catboost-1.csv\", index=False)"
      ],
      "cell_type": "code",
      "outputs": [],
      "execution_count": null
    },
    {
      "metadata": {},
      "source": [
        "def subtractive_function(x):\n",
        "    # Example function: Quadratic scaling\n",
        "    return 0.1 * (x**2) / 7\n",
        "\n",
        "\n",
        "sub = pd.read_csv(\"submissions/full_features_catboost.csv\")\n",
        "\n",
        "sub[\"target\"] = np.clip(sub[\"target\"] - sub[\"target\"].apply(subtractive_function), 0, 7)\n",
        "sub.to_csv(\"submissions/full_features_catboost-quadratic_scaling.csv\", index=False)"
      ],
      "cell_type": "code",
      "outputs": [],
      "execution_count": null
    },
    {
      "metadata": {},
      "source": [
        "sub = pd.read_csv(\"submissions/full_features_catboost.csv\")\n",
        "bins = [0, 1, 2, 3, 4, 5, 6, 7]\n",
        "\n",
        "# Create bins and calculate value counts\n",
        "bin_counts = pd.cut(sub[\"target\"], bins=bins, right=False).value_counts()\n",
        "bin_counts"
      ],
      "cell_type": "code",
      "outputs": [
        {
          "output_type": "execute_result",
          "data": {
            "text/plain": [
              "target\n",
              "[1, 2)    13518\n",
              "[0, 1)     9103\n",
              "[2, 3)     8046\n",
              "[3, 4)     5578\n",
              "[4, 5)     2376\n",
              "[5, 6)      491\n",
              "[6, 7)       31\n",
              "Name: count, dtype: int64"
            ]
          },
          "metadata": {},
          "execution_count": 8
        }
      ],
      "execution_count": null
    },
    {
      "metadata": {},
      "source": [
        "sub = pd.read_csv(\"submissions/full_features_catboost.csv\")\n",
        "sub[\"target\"] = np.clip((sub[\"target\"] - 0.5).to_numpy(), 0, 7)\n",
        "sub.to_csv(\"submissions/full_features_catboost-0.5.csv\", index=False)"
      ],
      "cell_type": "code",
      "outputs": [],
      "execution_count": null
    },
    {
      "metadata": {},
      "source": [],
      "cell_type": "code",
      "outputs": [],
      "execution_count": null
    }
  ]
}
