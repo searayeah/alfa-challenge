{
  "nbformat": 4,
  "nbformat_minor": 2,
  "metadata": {},
  "cells": [
    {
      "metadata": {},
      "source": [
        "import json\n",
        "import pickle\n",
        "\n",
        "import pandas as pd"
      ],
      "cell_type": "code",
      "outputs": [],
      "execution_count": null
    },
    {
      "metadata": {},
      "source": [
        "X_train = pd.read_pickle(\"data/features_pickle/x_train.pkl\")\n",
        "X_test = pd.read_pickle(\"data/features_pickle/x_test.pkl\")\n",
        "\n",
        "X_train.to_parquet(\"data/features/x_train.pa\")\n",
        "X_test.to_parquet(\"data/features/x_test.pa\")"
      ],
      "cell_type": "code",
      "outputs": [],
      "execution_count": null
    },
    {
      "metadata": {},
      "source": [
        "with open(\"data/features_pickle/selected_features_1000.pkl\", \"rb\") as f:\n",
        "    loaded_dict = pickle.load(f)\n",
        "\n",
        "\n",
        "with open(\"data/feature_selection/selected_features_1000.json\", \"w\") as json_file:\n",
        "    json.dump(loaded_dict, json_file, indent=4)"
      ],
      "cell_type": "code",
      "outputs": [],
      "execution_count": null
    },
    {
      "metadata": {},
      "source": [
        "with open(\"data/features_pickle/selected_features_500.pkl\", \"rb\") as f:\n",
        "    loaded_dict = pickle.load(f)\n",
        "\n",
        "\n",
        "with open(\"data/feature_selection/selected_features_500.json\", \"w\") as json_file:\n",
        "    json.dump(loaded_dict, json_file, indent=4)"
      ],
      "cell_type": "code",
      "outputs": [],
      "execution_count": null
    },
    {
      "metadata": {},
      "source": [
        "tsfresh = pd.read_pickle(\"data/features_pickle/tsfresh_generations.pkl\")\n",
        "coles = pd.read_pickle(\"data/features_pickle/coles.pkl\")\n",
        "aggs = pd.read_pickle(\"data/features_pickle/aggs.pkl\")\n",
        "full_features = pd.read_pickle(\"data/features_pickle/full_features.pkl\")"
      ],
      "cell_type": "code",
      "outputs": [],
      "execution_count": null
    },
    {
      "metadata": {},
      "source": [
        "tsfresh.to_parquet(\"data/features/tsfresh_generations.pa\")\n",
        "coles.to_parquet(\"data/features/coles.pa\")\n",
        "aggs.to_parquet(\"data/features/aggs.pa\")\n",
        "full_features.to_parquet(\"data/features/full_features.pa\")"
      ],
      "cell_type": "code",
      "outputs": [],
      "execution_count": null
    }
  ]
}
