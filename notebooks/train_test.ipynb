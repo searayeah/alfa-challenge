{
  "nbformat": 4,
  "nbformat_minor": 2,
  "metadata": {},
  "cells": [
    {
      "metadata": {},
      "source": [
        "import pandas as pd"
      ],
      "cell_type": "code",
      "outputs": [],
      "execution_count": null
    },
    {
      "metadata": {},
      "source": [
        "features = pd.read_pickle(\"data/features/full_features.pkl\")\n",
        "df_transactions = pd.read_parquet(\"data/df_transaction.pa\")\n",
        "df_train = pd.read_parquet(\"data/train.pa\")"
      ],
      "cell_type": "code",
      "outputs": [],
      "execution_count": null
    },
    {
      "metadata": {},
      "source": [
        "test_clients = list(\n",
        "    set(df_transactions[\"client_num\"].unique().tolist()).difference(\n",
        "        df_train[\"client_num\"].to_list()\n",
        "    )\n",
        ")"
      ],
      "cell_type": "code",
      "outputs": [],
      "execution_count": null
    },
    {
      "metadata": {},
      "source": [
        "X_train = df_train.merge(\n",
        "    features[~features[\"client_num\"].isin(test_clients)],\n",
        "    left_on=\"client_num\",\n",
        "    right_on=\"client_num\",\n",
        "    how=\"left\",\n",
        ")\n",
        "X_test = features[features[\"client_num\"].isin(test_clients)]\n",
        "\n",
        "X_train.to_pickle(\"data/features/x_train.pkl\")\n",
        "X_test.to_pickle(\"data/features/x_test.pkl\")"
      ],
      "cell_type": "code",
      "outputs": [],
      "execution_count": null
    }
  ]
}
